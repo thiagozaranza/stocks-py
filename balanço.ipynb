{
 "cells": [
  {
   "cell_type": "code",
   "execution_count": 43,
   "metadata": {},
   "outputs": [],
   "source": [
    "import pandas as pd"
   ]
  },
  {
   "cell_type": "code",
   "execution_count": 44,
   "metadata": {},
   "outputs": [],
   "source": [
    "import numpy as np"
   ]
  },
  {
   "cell_type": "code",
   "execution_count": 45,
   "metadata": {},
   "outputs": [],
   "source": [
    "import matplotlib.pyplot as plt"
   ]
  },
  {
   "cell_type": "code",
   "execution_count": 46,
   "metadata": {},
   "outputs": [],
   "source": [
    "import matplotlib.ticker as ticker"
   ]
  },
  {
   "cell_type": "code",
   "execution_count": 47,
   "metadata": {},
   "outputs": [],
   "source": [
    "import seaborn as sns"
   ]
  },
  {
   "cell_type": "code",
   "execution_count": 48,
   "metadata": {},
   "outputs": [],
   "source": [
    "%matplotlib inline"
   ]
  },
  {
   "cell_type": "code",
   "execution_count": 49,
   "metadata": {},
   "outputs": [],
   "source": [
    "balanco = pd.read_csv(\"balanços/JHSF3.csv\", index_col=0, header=1)"
   ]
  },
  {
   "cell_type": "code",
   "execution_count": 50,
   "metadata": {},
   "outputs": [],
   "source": [
    "balanco = balanco.T[::-1]"
   ]
  },
  {
   "cell_type": "code",
   "execution_count": 51,
   "metadata": {},
   "outputs": [],
   "source": [
    "balanco.index = pd.to_datetime(balanco.index)"
   ]
  },
  {
   "cell_type": "code",
   "execution_count": 52,
   "metadata": {
    "scrolled": true
   },
   "outputs": [
    {
     "data": {
      "text/html": [
       "<div>\n",
       "<style scoped>\n",
       "    .dataframe tbody tr th:only-of-type {\n",
       "        vertical-align: middle;\n",
       "    }\n",
       "\n",
       "    .dataframe tbody tr th {\n",
       "        vertical-align: top;\n",
       "    }\n",
       "\n",
       "    .dataframe thead th {\n",
       "        text-align: right;\n",
       "    }\n",
       "</style>\n",
       "<table border=\"1\" class=\"dataframe\">\n",
       "  <thead>\n",
       "    <tr style=\"text-align: right;\">\n",
       "      <th></th>\n",
       "      <th>Ativo Total</th>\n",
       "      <th>Ativo Circulante</th>\n",
       "      <th>Caixa e Equivalentes de Caixa</th>\n",
       "      <th>Aplicações Financeiras</th>\n",
       "      <th>Contas a Receber</th>\n",
       "      <th>Estoques</th>\n",
       "      <th>Ativos Biológicos</th>\n",
       "      <th>Tributos a Recuperar</th>\n",
       "      <th>Despesas Antecipadas</th>\n",
       "      <th>Outros Ativos Circulantes</th>\n",
       "      <th>...</th>\n",
       "      <th>Patrimônio Líquido</th>\n",
       "      <th>Capital Social Realizado</th>\n",
       "      <th>Reservas de Capital</th>\n",
       "      <th>Reservas de Reavaliação</th>\n",
       "      <th>Reservas de Lucros</th>\n",
       "      <th>Lucros/Prejuízos Acumulados</th>\n",
       "      <th>Ajustes de Avaliação Patrimonial</th>\n",
       "      <th>Ajustes Acumulados de Conversão</th>\n",
       "      <th>Outros Resultados Abrangentes</th>\n",
       "      <th>Adiantamento para Futuro Aumento Capital</th>\n",
       "    </tr>\n",
       "  </thead>\n",
       "  <tbody>\n",
       "    <tr>\n",
       "      <th>2008-06-30</th>\n",
       "      <td>1,448,715</td>\n",
       "      <td>720,835</td>\n",
       "      <td>212,135</td>\n",
       "      <td>0</td>\n",
       "      <td>508,700</td>\n",
       "      <td>0</td>\n",
       "      <td>0</td>\n",
       "      <td>0</td>\n",
       "      <td>0</td>\n",
       "      <td>0</td>\n",
       "      <td>...</td>\n",
       "      <td>905,807</td>\n",
       "      <td>705,782</td>\n",
       "      <td>0</td>\n",
       "      <td>0</td>\n",
       "      <td>65,152</td>\n",
       "      <td>134,873</td>\n",
       "      <td>0</td>\n",
       "      <td>0</td>\n",
       "      <td>0</td>\n",
       "      <td>0</td>\n",
       "    </tr>\n",
       "    <tr>\n",
       "      <th>2008-09-30</th>\n",
       "      <td>1,633,230</td>\n",
       "      <td>797,019</td>\n",
       "      <td>217,884</td>\n",
       "      <td>0</td>\n",
       "      <td>579,135</td>\n",
       "      <td>0</td>\n",
       "      <td>0</td>\n",
       "      <td>0</td>\n",
       "      <td>0</td>\n",
       "      <td>0</td>\n",
       "      <td>...</td>\n",
       "      <td>942,223</td>\n",
       "      <td>705,782</td>\n",
       "      <td>0</td>\n",
       "      <td>0</td>\n",
       "      <td>70,068</td>\n",
       "      <td>166,373</td>\n",
       "      <td>0</td>\n",
       "      <td>0</td>\n",
       "      <td>0</td>\n",
       "      <td>0</td>\n",
       "    </tr>\n",
       "    <tr>\n",
       "      <th>2008-12-31</th>\n",
       "      <td>1,614,747</td>\n",
       "      <td>662,942</td>\n",
       "      <td>172,853</td>\n",
       "      <td>0</td>\n",
       "      <td>490,089</td>\n",
       "      <td>0</td>\n",
       "      <td>0</td>\n",
       "      <td>0</td>\n",
       "      <td>0</td>\n",
       "      <td>0</td>\n",
       "      <td>...</td>\n",
       "      <td>869,889</td>\n",
       "      <td>705,782</td>\n",
       "      <td>906</td>\n",
       "      <td>0</td>\n",
       "      <td>161,216</td>\n",
       "      <td>0</td>\n",
       "      <td>1,985</td>\n",
       "      <td>0</td>\n",
       "      <td>0</td>\n",
       "      <td>0</td>\n",
       "    </tr>\n",
       "  </tbody>\n",
       "</table>\n",
       "<p>3 rows × 55 columns</p>\n",
       "</div>"
      ],
      "text/plain": [
       "           Ativo Total Ativo Circulante Caixa e Equivalentes de Caixa  \\\n",
       "2008-06-30   1,448,715          720,835                       212,135   \n",
       "2008-09-30   1,633,230          797,019                       217,884   \n",
       "2008-12-31   1,614,747          662,942                       172,853   \n",
       "\n",
       "           Aplicações Financeiras Contas a Receber Estoques Ativos Biológicos  \\\n",
       "2008-06-30                      0          508,700        0                 0   \n",
       "2008-09-30                      0          579,135        0                 0   \n",
       "2008-12-31                      0          490,089        0                 0   \n",
       "\n",
       "           Tributos a Recuperar Despesas Antecipadas  \\\n",
       "2008-06-30                    0                    0   \n",
       "2008-09-30                    0                    0   \n",
       "2008-12-31                    0                    0   \n",
       "\n",
       "           Outros Ativos Circulantes                   ...                     \\\n",
       "2008-06-30                         0                   ...                      \n",
       "2008-09-30                         0                   ...                      \n",
       "2008-12-31                         0                   ...                      \n",
       "\n",
       "           Patrimônio Líquido Capital Social Realizado Reservas de Capital  \\\n",
       "2008-06-30            905,807                  705,782                   0   \n",
       "2008-09-30            942,223                  705,782                   0   \n",
       "2008-12-31            869,889                  705,782                 906   \n",
       "\n",
       "           Reservas de Reavaliação Reservas de Lucros  \\\n",
       "2008-06-30                       0             65,152   \n",
       "2008-09-30                       0             70,068   \n",
       "2008-12-31                       0            161,216   \n",
       "\n",
       "           Lucros/Prejuízos Acumulados Ajustes de Avaliação Patrimonial  \\\n",
       "2008-06-30                     134,873                                0   \n",
       "2008-09-30                     166,373                                0   \n",
       "2008-12-31                           0                            1,985   \n",
       "\n",
       "           Ajustes Acumulados de Conversão Outros Resultados Abrangentes  \\\n",
       "2008-06-30                               0                             0   \n",
       "2008-09-30                               0                             0   \n",
       "2008-12-31                               0                             0   \n",
       "\n",
       "           Adiantamento para Futuro Aumento Capital  \n",
       "2008-06-30                                        0  \n",
       "2008-09-30                                        0  \n",
       "2008-12-31                                        0  \n",
       "\n",
       "[3 rows x 55 columns]"
      ]
     },
     "execution_count": 52,
     "metadata": {},
     "output_type": "execute_result"
    }
   ],
   "source": [
    "balanco.head(3)"
   ]
  },
  {
   "cell_type": "markdown",
   "metadata": {},
   "source": [
    "#### Convert string to int "
   ]
  },
  {
   "cell_type": "code",
   "execution_count": 53,
   "metadata": {},
   "outputs": [],
   "source": [
    "balanco = balanco.applymap(lambda x: int(x.replace(',', '')))"
   ]
  },
  {
   "cell_type": "code",
   "execution_count": 57,
   "metadata": {},
   "outputs": [
    {
     "data": {
      "text/plain": [
       "Index(['Ativo Total', 'Ativo Circulante', 'Caixa e Equivalentes de Caixa',\n",
       "       'Aplicações Financeiras', 'Contas a Receber', 'Estoques',\n",
       "       'Ativos Biológicos', 'Tributos a Recuperar', 'Despesas Antecipadas',\n",
       "       'Outros Ativos Circulantes', 'Ativo Realizável a Longo Prazo',\n",
       "       'Aplicações Financeiras Avaliadas a Valor Justo',\n",
       "       'Aplicações Financeiras Avaliadas ao Custo Amortizado',\n",
       "       'Contas a Receber', 'Estoques', 'Ativos Biológicos',\n",
       "       'Tributos Diferidos', 'Despesas Antecipadas',\n",
       "       'Créditos com Partes Relacionadas', 'Outros Ativos Não Circulantes',\n",
       "       'Investimentos', 'Imobilizado', 'Intangível', 'Diferido',\n",
       "       'Passivo Total', 'Passivo Circulante',\n",
       "       'Obrigações Sociais e Trabalhistas', 'Fornecedores',\n",
       "       'Obrigações Fiscais', 'Empréstimos e Financiamentos',\n",
       "       'Passivos com Partes Relacionadas', 'Dividendos e JCP a Pagar',\n",
       "       'Outros', 'Provisões',\n",
       "       'Passivos sobre Ativos Não-Correntes a Venda e Descontinuados',\n",
       "       'Passivo Não Circulante', 'Empréstimos e Financiamentos',\n",
       "       'Passivos com Partes Relacionadas', 'Outros', 'Tributos Diferidos',\n",
       "       'Adiantamento para Futuro Aumento Capital', 'Provisões',\n",
       "       'Passivos sobre Ativos Não-Correntes a Venda e Descontinuados',\n",
       "       'Lucros e Receitas a Apropriar',\n",
       "       'Participação dos Acionistas Não Controladores', 'Patrimônio Líquido',\n",
       "       'Capital Social Realizado', 'Reservas de Capital',\n",
       "       'Reservas de Reavaliação', 'Reservas de Lucros',\n",
       "       'Lucros/Prejuízos Acumulados', 'Ajustes de Avaliação Patrimonial',\n",
       "       'Ajustes Acumulados de Conversão', 'Outros Resultados Abrangentes',\n",
       "       'Adiantamento para Futuro Aumento Capital'],\n",
       "      dtype='object')"
      ]
     },
     "execution_count": 57,
     "metadata": {},
     "output_type": "execute_result"
    }
   ],
   "source": [
    "balanco.columns"
   ]
  },
  {
   "cell_type": "code",
   "execution_count": 54,
   "metadata": {},
   "outputs": [
    {
     "data": {
      "text/html": [
       "<div>\n",
       "<style scoped>\n",
       "    .dataframe tbody tr th:only-of-type {\n",
       "        vertical-align: middle;\n",
       "    }\n",
       "\n",
       "    .dataframe tbody tr th {\n",
       "        vertical-align: top;\n",
       "    }\n",
       "\n",
       "    .dataframe thead th {\n",
       "        text-align: right;\n",
       "    }\n",
       "</style>\n",
       "<table border=\"1\" class=\"dataframe\">\n",
       "  <thead>\n",
       "    <tr style=\"text-align: right;\">\n",
       "      <th></th>\n",
       "      <th>Ativo Total</th>\n",
       "      <th>Ativo Circulante</th>\n",
       "      <th>Caixa e Equivalentes de Caixa</th>\n",
       "      <th>Aplicações Financeiras</th>\n",
       "      <th>Contas a Receber</th>\n",
       "      <th>Estoques</th>\n",
       "      <th>Ativos Biológicos</th>\n",
       "      <th>Tributos a Recuperar</th>\n",
       "      <th>Despesas Antecipadas</th>\n",
       "      <th>Outros Ativos Circulantes</th>\n",
       "      <th>...</th>\n",
       "      <th>Patrimônio Líquido</th>\n",
       "      <th>Capital Social Realizado</th>\n",
       "      <th>Reservas de Capital</th>\n",
       "      <th>Reservas de Reavaliação</th>\n",
       "      <th>Reservas de Lucros</th>\n",
       "      <th>Lucros/Prejuízos Acumulados</th>\n",
       "      <th>Ajustes de Avaliação Patrimonial</th>\n",
       "      <th>Ajustes Acumulados de Conversão</th>\n",
       "      <th>Outros Resultados Abrangentes</th>\n",
       "      <th>Adiantamento para Futuro Aumento Capital</th>\n",
       "    </tr>\n",
       "  </thead>\n",
       "  <tbody>\n",
       "    <tr>\n",
       "      <th>2008-06-30</th>\n",
       "      <td>1448715</td>\n",
       "      <td>720835</td>\n",
       "      <td>212135</td>\n",
       "      <td>0</td>\n",
       "      <td>508700</td>\n",
       "      <td>0</td>\n",
       "      <td>0</td>\n",
       "      <td>0</td>\n",
       "      <td>0</td>\n",
       "      <td>0</td>\n",
       "      <td>...</td>\n",
       "      <td>905807</td>\n",
       "      <td>705782</td>\n",
       "      <td>0</td>\n",
       "      <td>0</td>\n",
       "      <td>65152</td>\n",
       "      <td>134873</td>\n",
       "      <td>0</td>\n",
       "      <td>0</td>\n",
       "      <td>0</td>\n",
       "      <td>0</td>\n",
       "    </tr>\n",
       "    <tr>\n",
       "      <th>2008-09-30</th>\n",
       "      <td>1633230</td>\n",
       "      <td>797019</td>\n",
       "      <td>217884</td>\n",
       "      <td>0</td>\n",
       "      <td>579135</td>\n",
       "      <td>0</td>\n",
       "      <td>0</td>\n",
       "      <td>0</td>\n",
       "      <td>0</td>\n",
       "      <td>0</td>\n",
       "      <td>...</td>\n",
       "      <td>942223</td>\n",
       "      <td>705782</td>\n",
       "      <td>0</td>\n",
       "      <td>0</td>\n",
       "      <td>70068</td>\n",
       "      <td>166373</td>\n",
       "      <td>0</td>\n",
       "      <td>0</td>\n",
       "      <td>0</td>\n",
       "      <td>0</td>\n",
       "    </tr>\n",
       "    <tr>\n",
       "      <th>2008-12-31</th>\n",
       "      <td>1614747</td>\n",
       "      <td>662942</td>\n",
       "      <td>172853</td>\n",
       "      <td>0</td>\n",
       "      <td>490089</td>\n",
       "      <td>0</td>\n",
       "      <td>0</td>\n",
       "      <td>0</td>\n",
       "      <td>0</td>\n",
       "      <td>0</td>\n",
       "      <td>...</td>\n",
       "      <td>869889</td>\n",
       "      <td>705782</td>\n",
       "      <td>906</td>\n",
       "      <td>0</td>\n",
       "      <td>161216</td>\n",
       "      <td>0</td>\n",
       "      <td>1985</td>\n",
       "      <td>0</td>\n",
       "      <td>0</td>\n",
       "      <td>0</td>\n",
       "    </tr>\n",
       "  </tbody>\n",
       "</table>\n",
       "<p>3 rows × 55 columns</p>\n",
       "</div>"
      ],
      "text/plain": [
       "            Ativo Total  Ativo Circulante  Caixa e Equivalentes de Caixa  \\\n",
       "2008-06-30      1448715            720835                         212135   \n",
       "2008-09-30      1633230            797019                         217884   \n",
       "2008-12-31      1614747            662942                         172853   \n",
       "\n",
       "            Aplicações Financeiras  Contas a Receber  Estoques  \\\n",
       "2008-06-30                       0            508700         0   \n",
       "2008-09-30                       0            579135         0   \n",
       "2008-12-31                       0            490089         0   \n",
       "\n",
       "            Ativos Biológicos  Tributos a Recuperar  Despesas Antecipadas  \\\n",
       "2008-06-30                  0                     0                     0   \n",
       "2008-09-30                  0                     0                     0   \n",
       "2008-12-31                  0                     0                     0   \n",
       "\n",
       "            Outros Ativos Circulantes  \\\n",
       "2008-06-30                          0   \n",
       "2008-09-30                          0   \n",
       "2008-12-31                          0   \n",
       "\n",
       "                              ...                     Patrimônio Líquido  \\\n",
       "2008-06-30                    ...                                 905807   \n",
       "2008-09-30                    ...                                 942223   \n",
       "2008-12-31                    ...                                 869889   \n",
       "\n",
       "            Capital Social Realizado  Reservas de Capital  \\\n",
       "2008-06-30                    705782                    0   \n",
       "2008-09-30                    705782                    0   \n",
       "2008-12-31                    705782                  906   \n",
       "\n",
       "            Reservas de Reavaliação  Reservas de Lucros  \\\n",
       "2008-06-30                        0               65152   \n",
       "2008-09-30                        0               70068   \n",
       "2008-12-31                        0              161216   \n",
       "\n",
       "            Lucros/Prejuízos Acumulados  Ajustes de Avaliação Patrimonial  \\\n",
       "2008-06-30                       134873                                 0   \n",
       "2008-09-30                       166373                                 0   \n",
       "2008-12-31                            0                              1985   \n",
       "\n",
       "            Ajustes Acumulados de Conversão  Outros Resultados Abrangentes  \\\n",
       "2008-06-30                                0                              0   \n",
       "2008-09-30                                0                              0   \n",
       "2008-12-31                                0                              0   \n",
       "\n",
       "            Adiantamento para Futuro Aumento Capital  \n",
       "2008-06-30                                         0  \n",
       "2008-09-30                                         0  \n",
       "2008-12-31                                         0  \n",
       "\n",
       "[3 rows x 55 columns]"
      ]
     },
     "execution_count": 54,
     "metadata": {},
     "output_type": "execute_result"
    }
   ],
   "source": [
    "balanco.head(3)"
   ]
  },
  {
   "cell_type": "code",
   "execution_count": 58,
   "metadata": {},
   "outputs": [
    {
     "data": {
      "text/plain": [
       "<matplotlib.axes._subplots.AxesSubplot at 0x7efee43d4940>"
      ]
     },
     "execution_count": 58,
     "metadata": {},
     "output_type": "execute_result"
    },
    {
     "data": {
      "image/png": "[encoded data removed]",
      "text/plain": [
       "<Figure size 1152x648 with 1 Axes>"
      ]
     },
     "metadata": {
      "needs_background": "light"
     },
     "output_type": "display_data"
    }
   ],
   "source": [
    "balanco[['Ativo Circulante', 'Passivo Total', 'Patrimônio Líquido', 'Lucros/Prejuízos Acumulados',  'Contas a Receber']].plot(figsize=(16,9), grid=True)"
   ]
  },
  {
   "cell_type": "code",
   "execution_count": 37,
   "metadata": {},
   "outputs": [],
   "source": [
    "def currency(x, pos):\n",
    "    \"\"\"The two args are the value and tick position\"\"\"\n",
    "    if x >= 1e6:\n",
    "        s = '{:1.1f}B'.format(x*1e-6)\n",
    "    else:\n",
    "        s = '{:1.0f}M'.format(x*1e-3)\n",
    "    return s\n",
    "\n",
    "formatter_money = ticker.FuncFormatter(currency)"
   ]
  },
  {
   "cell_type": "code",
   "execution_count": 38,
   "metadata": {},
   "outputs": [
    {
     "ename": "ValueError",
     "evalue": "not enough values to unpack (expected 3, got 2)",
     "output_type": "error",
     "traceback": [
      "\u001b[0;31m---------------------------------------------------------------------------\u001b[0m",
      "\u001b[0;31mValueError\u001b[0m                                Traceback (most recent call last)",
      "\u001b[0;32m<ipython-input-38-e62c71278245>\u001b[0m in \u001b[0;36m<module>\u001b[0;34m\u001b[0m\n\u001b[1;32m      1\u001b[0m \u001b[0mbalanco\u001b[0m \u001b[0;34m=\u001b[0m \u001b[0mbalanco\u001b[0m\u001b[0;34m[\u001b[0m\u001b[0;34m-\u001b[0m\u001b[0;36m11\u001b[0m\u001b[0;34m:\u001b[0m\u001b[0;34m]\u001b[0m\u001b[0;34m\u001b[0m\u001b[0;34m\u001b[0m\u001b[0m\n\u001b[0;32m----> 2\u001b[0;31m \u001b[0mfig\u001b[0m\u001b[0;34m,\u001b[0m \u001b[0mgrafico\u001b[0m\u001b[0;34m,\u001b[0m \u001b[0mcotacao_graph\u001b[0m \u001b[0;34m=\u001b[0m \u001b[0mplt\u001b[0m\u001b[0;34m.\u001b[0m\u001b[0msubplots\u001b[0m\u001b[0;34m(\u001b[0m\u001b[0mfigsize\u001b[0m\u001b[0;34m=\u001b[0m\u001b[0;34m(\u001b[0m\u001b[0;36m16\u001b[0m\u001b[0;34m,\u001b[0m\u001b[0;36m9\u001b[0m\u001b[0;34m)\u001b[0m\u001b[0;34m)\u001b[0m\u001b[0;34m\u001b[0m\u001b[0;34m\u001b[0m\u001b[0m\n\u001b[0m\u001b[1;32m      3\u001b[0m \u001b[0;34m\u001b[0m\u001b[0m\n\u001b[1;32m      4\u001b[0m \u001b[0mx\u001b[0m \u001b[0;34m=\u001b[0m \u001b[0mnp\u001b[0m\u001b[0;34m.\u001b[0m\u001b[0marange\u001b[0m\u001b[0;34m(\u001b[0m\u001b[0mbalanco\u001b[0m\u001b[0;34m.\u001b[0m\u001b[0mindex\u001b[0m\u001b[0;34m.\u001b[0m\u001b[0msize\u001b[0m\u001b[0;34m)\u001b[0m\u001b[0;34m\u001b[0m\u001b[0;34m\u001b[0m\u001b[0m\n\u001b[1;32m      5\u001b[0m \u001b[0;34m\u001b[0m\u001b[0m\n",
      "\u001b[0;31mValueError\u001b[0m: not enough values to unpack (expected 3, got 2)"
     ]
    },
    {
     "data": {
      "image/png": "[encoded data removed]",
      "text/plain": [
       "<Figure size 1152x648 with 1 Axes>"
      ]
     },
     "metadata": {
      "needs_background": "light"
     },
     "output_type": "display_data"
    }
   ],
   "source": [
    "balanco = balanco[-11:]\n",
    "fig, grafico, cotacao_graph = plt.subplots(figsize=(16,9))\n",
    "\n",
    "x = np.arange(balanco.index.size)\n",
    "\n",
    "grafico.plot(x, balanco[\"Ativo Circulante\"].tolist(), label='Ativo')\n",
    "grafico.plot(x, balanco[\"Passivo Total\"].tolist(), label='Passivo')\n",
    "grafico.plot(x, balanco[\"Patrimônio Líquido\"].tolist(), label='Patrimônio')\n",
    "grafico.plot(x, balanco[\"Lucros/Prejuízos Acumulados\"].tolist(), label='Lucros/Prejuízos Acum.')\n",
    "\n",
    "cotacao_graph.plot(706, cotacao[\"Último\"][-706:].tolist(), label='Cot')\n",
    "\n",
    "plt.xticks(x, balanco.index)\n",
    "\n",
    "grafico.grid()\n",
    "\n",
    "grafico.legend()\n",
    "\n",
    "labels = grafico.get_xticklabels()\n",
    "plt.setp(labels, rotation=45, horizontalalignment='right')\n",
    "\n",
    "grafico.set(ylabel='Valor em R$', title='Análise de balanço - VIVR3')\n",
    "\n",
    "grafico.yaxis.set_major_formatter(formatter_money)\n",
    "\n",
    "\n",
    "\n"
   ]
  },
  {
   "cell_type": "code",
   "execution_count": null,
   "metadata": {},
   "outputs": [],
   "source": []
  },
  {
   "cell_type": "code",
   "execution_count": null,
   "metadata": {
    "collapsed": true
   },
   "outputs": [],
   "source": []
  }
 ],
 "metadata": {
  "kernelspec": {
   "display_name": "Python 3",
   "language": "python",
   "name": "python3"
  },
  "language_info": {
   "codemirror_mode": {
    "name": "ipython",
    "version": 3
   },
   "file_extension": ".py",
   "mimetype": "text/x-python",
   "name": "python",
   "nbconvert_exporter": "python",
   "pygments_lexer": "ipython3",
   "version": "3.7.1"
  }
 },
 "nbformat": 4,
 "nbformat_minor": 2
}
